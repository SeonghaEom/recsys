{
 "cells": [
  {
   "cell_type": "code",
   "execution_count": 2,
   "metadata": {},
   "outputs": [],
   "source": [
    "import pandas as pd\n",
    "import matplotlib.pyplot as plt\n"
   ]
  },
  {
   "cell_type": "markdown",
   "metadata": {},
   "source": [
    "# Load sorted train session"
   ]
  },
  {
   "cell_type": "code",
   "execution_count": 3,
   "metadata": {},
   "outputs": [],
   "source": [
    "## load sorted session\n",
    "tr_sessions = pd.read_csv('./train_sessions_sorted.csv')"
   ]
  },
  {
   "cell_type": "markdown",
   "metadata": {},
   "source": [
    "# Plot session length of each sessions"
   ]
  },
  {
   "cell_type": "markdown",
   "metadata": {},
   "source": [
    "### How sessions length is distributed?"
   ]
  },
  {
   "cell_type": "code",
   "execution_count": 4,
   "metadata": {},
   "outputs": [
    {
     "ename": "AttributeError",
     "evalue": "'DataFrame' object has no attribute 'to_list'",
     "output_type": "error",
     "traceback": [
      "\u001b[0;31m---------------------------------------------------------------------------\u001b[0m",
      "\u001b[0;31mAttributeError\u001b[0m                            Traceback (most recent call last)",
      "\u001b[0;32m/tmp/ipykernel_3189/4181239327.py\u001b[0m in \u001b[0;36m<module>\u001b[0;34m\u001b[0m\n\u001b[1;32m      7\u001b[0m \u001b[0;32mfor\u001b[0m \u001b[0msid\u001b[0m \u001b[0;32min\u001b[0m \u001b[0msession_id\u001b[0m\u001b[0;34m:\u001b[0m\u001b[0;34m\u001b[0m\u001b[0;34m\u001b[0m\u001b[0m\n\u001b[1;32m      8\u001b[0m   \u001b[0mx\u001b[0m\u001b[0;34m.\u001b[0m\u001b[0mappend\u001b[0m\u001b[0;34m(\u001b[0m\u001b[0msid\u001b[0m\u001b[0;34m)\u001b[0m\u001b[0;34m\u001b[0m\u001b[0;34m\u001b[0m\u001b[0m\n\u001b[0;32m----> 9\u001b[0;31m   \u001b[0mlength\u001b[0m \u001b[0;34m=\u001b[0m \u001b[0mlen\u001b[0m\u001b[0;34m(\u001b[0m\u001b[0mtr_sessions\u001b[0m\u001b[0;34m.\u001b[0m\u001b[0mloc\u001b[0m\u001b[0;34m[\u001b[0m\u001b[0mtr_sessions\u001b[0m\u001b[0;34m[\u001b[0m\u001b[0;34m'session_id'\u001b[0m\u001b[0;34m]\u001b[0m \u001b[0;34m==\u001b[0m \u001b[0msid\u001b[0m\u001b[0;34m]\u001b[0m\u001b[0;34m.\u001b[0m\u001b[0mto_list\u001b[0m\u001b[0;34m(\u001b[0m\u001b[0;34m)\u001b[0m\u001b[0;34m)\u001b[0m\u001b[0;34m\u001b[0m\u001b[0;34m\u001b[0m\u001b[0m\n\u001b[0m\u001b[1;32m     10\u001b[0m   \u001b[0my\u001b[0m\u001b[0;34m.\u001b[0m\u001b[0mappend\u001b[0m\u001b[0;34m(\u001b[0m\u001b[0mlength\u001b[0m\u001b[0;34m)\u001b[0m\u001b[0;34m\u001b[0m\u001b[0;34m\u001b[0m\u001b[0m\n\u001b[1;32m     11\u001b[0m \u001b[0;34m\u001b[0m\u001b[0m\n",
      "\u001b[0;32m/usr/local/lib/python3.7/site-packages/pandas/core/generic.py\u001b[0m in \u001b[0;36m__getattr__\u001b[0;34m(self, name)\u001b[0m\n\u001b[1;32m   5485\u001b[0m         ):\n\u001b[1;32m   5486\u001b[0m             \u001b[0;32mreturn\u001b[0m \u001b[0mself\u001b[0m\u001b[0;34m[\u001b[0m\u001b[0mname\u001b[0m\u001b[0;34m]\u001b[0m\u001b[0;34m\u001b[0m\u001b[0;34m\u001b[0m\u001b[0m\n\u001b[0;32m-> 5487\u001b[0;31m         \u001b[0;32mreturn\u001b[0m \u001b[0mobject\u001b[0m\u001b[0;34m.\u001b[0m\u001b[0m__getattribute__\u001b[0m\u001b[0;34m(\u001b[0m\u001b[0mself\u001b[0m\u001b[0;34m,\u001b[0m \u001b[0mname\u001b[0m\u001b[0;34m)\u001b[0m\u001b[0;34m\u001b[0m\u001b[0;34m\u001b[0m\u001b[0m\n\u001b[0m\u001b[1;32m   5488\u001b[0m \u001b[0;34m\u001b[0m\u001b[0m\n\u001b[1;32m   5489\u001b[0m     \u001b[0;32mdef\u001b[0m \u001b[0m__setattr__\u001b[0m\u001b[0;34m(\u001b[0m\u001b[0mself\u001b[0m\u001b[0;34m,\u001b[0m \u001b[0mname\u001b[0m\u001b[0;34m:\u001b[0m \u001b[0mstr\u001b[0m\u001b[0;34m,\u001b[0m \u001b[0mvalue\u001b[0m\u001b[0;34m)\u001b[0m \u001b[0;34m->\u001b[0m \u001b[0;32mNone\u001b[0m\u001b[0;34m:\u001b[0m\u001b[0;34m\u001b[0m\u001b[0;34m\u001b[0m\u001b[0m\n",
      "\u001b[0;31mAttributeError\u001b[0m: 'DataFrame' object has no attribute 'to_list'"
     ]
    },
    {
     "data": {
      "image/png": "[encoded data removed]",
      "text/plain": [
       "<Figure size 432x288 with 1 Axes>"
      ]
     },
     "metadata": {
      "needs_background": "light"
     },
     "output_type": "display_data"
    }
   ],
   "source": [
    "fig = plt.figure()\n",
    "ax = fig.add_axes([0,0,1,1])\n",
    "x = []\n",
    "y = []\n",
    "\n",
    "session_id = tr_sessions['session_id'].unique()\n",
    "for sid in session_id:\n",
    "  x.append(sid)\n",
    "  length = len(tr_sessions.loc[tr_sessions['session_id'] == sid].to_list())\n",
    "  y.append(length)\n",
    "\n",
    "ax.bar(x,y)"
   ]
  },
  {
   "cell_type": "code",
   "execution_count": null,
   "metadata": {},
   "outputs": [],
   "source": [
    "with open('./train.txt', 'r') as f:\n",
    "  train = f.readlines()\n",
    "  print(len(train))"
   ]
  },
  {
   "cell_type": "markdown",
   "metadata": {},
   "source": [
    "### How much the explored items are included in total purchases (exploration affect on purchase?)\n",
    "### How is the index distributed which corresponds to purchased items?"
   ]
  },
  {
   "cell_type": "code",
   "execution_count": null,
   "metadata": {},
   "outputs": [],
   "source": [
    "x=[]\n",
    "y_id=[]\n",
    "y_len = []\n",
    "fig = plt.figure()\n",
    "width = 0.35\n",
    "ax = fig.add_axes([0,0,1,1])\n",
    "cnt = 0\n",
    "\n",
    "for i,session in enumerate(train):\n",
    "  x.append(i)\n",
    "  session = session.split(',')\n",
    "  explored = list(map(lambda x: int(x.strip()) ,session[:-1]))\n",
    "  purchased = int(session[-1].strip())\n",
    "  print(explored, purchased)\n",
    "  \n",
    "  # print(len(explored), purchased)\n",
    "  # find index\n",
    "  if purchased in explored:\n",
    "    cnt +=1\n",
    "  \n",
    "cnt"
   ]
  },
  {
   "cell_type": "markdown",
   "metadata": {},
   "source": [
    "# Item label distribution? (category id, value id)"
   ]
  },
  {
   "cell_type": "code",
   "execution_count": 5,
   "metadata": {},
   "outputs": [
    {
     "name": "stdout",
     "output_type": "stream",
     "text": [
      "   item_id  feature_category_id  feature_value_id\n",
      "0        2                   56               365\n",
      "1        2                   62               801\n",
      "2        2                   68               351\n",
      "3        2                   33               802\n",
      "4        2                   72                75 (471751, 3)\n",
      "73\n",
      "890\n"
     ]
    }
   ],
   "source": [
    "item_feat = pd.read_csv('./item_features.csv')\n",
    "\n",
    "print(item_feat.head(), item_feat.shape)\n",
    "category = item_feat['feature_category_id'].unique()\n",
    "print(len(category))\n",
    "value = item_feat['feature_value_id'].unique()\n",
    "print(len(value))"
   ]
  },
  {
   "cell_type": "code",
   "execution_count": 21,
   "metadata": {},
   "outputs": [
    {
     "data": {
      "text/plain": [
       "28143"
      ]
     },
     "execution_count": 21,
     "metadata": {},
     "output_type": "execute_result"
    }
   ],
   "source": [
    "max(ids)"
   ]
  },
  {
   "cell_type": "code",
   "execution_count": 17,
   "metadata": {},
   "outputs": [],
   "source": [
    "## Generate feature txt file\n",
    "ids = item_feat['item_id'].unique()\n",
    "print(len(ids))\n",
    "\n",
    "with open('./item_features.txt', 'w') as f:\n",
    "  for id in ids:\n",
    "    sess = item_feat.loc[item_feat['item_id'] == id]\n",
    "    # print(sess)\n",
    "    # li = sess.apply(lambda x: str(x[1]) + \":\" + str(x[2]), axis=0)\n",
    "    cate = sess['feature_category_id']\n",
    "    value = sess['feature_value_id']\n",
    "    assert len(cate) == len(value), print(\"different length {} {}\".format(len(cate), len(value)))\n",
    "    assert len(value) > 0\n",
    "    # print(value)\n",
    "    li = [str(x)+\":\"+str(value.iloc[i]) for i,x in enumerate(cate)]\n",
    "    # print(li)\n",
    "    string = \",\".join(li) + '\\n'\n",
    "    f.write(string)"
   ]
  },
  {
   "cell_type": "markdown",
   "metadata": {},
   "source": [
    "### Item feature statistics"
   ]
  },
  {
   "cell_type": "code",
   "execution_count": 19,
   "metadata": {},
   "outputs": [
    {
     "name": "stdout",
     "output_type": "stream",
     "text": [
      "average length  19.912667257608373\n",
      "maximum length 33\n",
      "session length larger than 20:  10485\n",
      "session length smaller or equal to 20:  13206\n"
     ]
    }
   ],
   "source": [
    "def print_statistics(fn):\n",
    "  with open(fn, 'r') as f:\n",
    "    session = f.readlines()\n",
    "\n",
    "  len(session)\n",
    "  session = [s.split(',') for s in session]\n",
    "  li = list(map(len, session))\n",
    "  print(\"average length \", sum(li)/len(li))\n",
    "  print(\"maximum length\", max(li))\n",
    "\n",
    "  larger = sum(map((lambda x: x>20), li))\n",
    "  print(\"num feat length larger than 20: \", larger)\n",
    "  smaller = sum(map((lambda x: x<=20), li))\n",
    "  print(\"num feat length smaller or equal to 20: \", smaller)\n",
    "\n",
    "print_statistics('./item_features.txt')\n"
   ]
  },
  {
   "cell_type": "code",
   "execution_count": null,
   "metadata": {},
   "outputs": [],
   "source": []
  }
 ],
 "metadata": {
  "interpreter": {
   "hash": "c5a441b32dc4ca21e1cbad8ff7223cd1fdef7f331dd29764472f9bcfd2311f0d"
  },
  "kernelspec": {
   "display_name": "Full on Python 3.7 (GPU)",
   "language": "python",
   "name": "python3"
  },
  "language_info": {
   "codemirror_mode": {
    "name": "ipython",
    "version": 3
   },
   "file_extension": ".py",
   "mimetype": "text/x-python",
   "name": "python",
   "nbconvert_exporter": "python",
   "pygments_lexer": "ipython3",
   "version": "3.7.11"
  },
  "orig_nbformat": 4
 },
 "nbformat": 4,
 "nbformat_minor": 2
}
