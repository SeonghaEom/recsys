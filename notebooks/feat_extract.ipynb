{
 "cells": [
  {
   "cell_type": "code",
   "execution_count": 1,
   "metadata": {},
   "outputs": [],
   "source": [
    "import pandas as pd"
   ]
  },
  {
   "cell_type": "markdown",
   "metadata": {},
   "source": [
    "# 1. Session related features"
   ]
  },
  {
   "cell_type": "code",
   "execution_count": 2,
   "metadata": {},
   "outputs": [
    {
     "name": "stdout",
     "output_type": "stream",
     "text": [
      "Index(['session_id', 'Unnamed: 1', 'session_id.1', 'item_id', 'date'], dtype='object')\n"
     ]
    }
   ],
   "source": [
    "## load sorted session\n",
    "tr_sessions = pd.read_csv('./train_sessions_sorted.csv')\n",
    "print(tr_sessions.columns)"
   ]
  },
  {
   "cell_type": "code",
   "execution_count": 5,
   "metadata": {},
   "outputs": [],
   "source": [
    "item_feat = pd.read_csv('./item_features.csv')\n",
    "\n",
    "def get_num_cate(session):\n",
    "  cnt = 0\n",
    "  for item in session['item_id'] :\n",
    "    cnt+=len(item_feat.loc[item_feat['item_id'] == item]['feature_category_id'].unique())\n",
    "  return cnt\n",
    "\n",
    "def get_num_val(session):\n",
    "  cnt = 0\n",
    "  for item in session['item_id'] :\n",
    "    cnt+=len(item_feat.loc[item_feat['item_id'] == item]['feature_value_id'].unique())\n",
    "  return cnt"
   ]
  },
  {
   "cell_type": "code",
   "execution_count": 3,
   "metadata": {},
   "outputs": [],
   "source": [
    "## cnt clicked times for items, cate, val\n",
    "tr_sessions = tr_sessions[['session_id', 'item_id', 'date']]\n",
    "tr_sessions['date'] = pd.to_datetime(tr_sessions['date'], format='%Y-%m-%d %H:%M:%S')\n",
    "tr_sessions_gb = tr_sessions.groupby(['session_id','item_id'])\n",
    "cnt_dict = {}\n"
   ]
  },
  {
   "cell_type": "code",
   "execution_count": null,
   "metadata": {},
   "outputs": [],
   "source": [
    "tr_sessions = tr_sessions[['session_id', 'item_id', 'date']]\n",
    "tr_sessions['date'] = pd.to_datetime(tr_sessions['date'], format='%Y-%m-%d %H:%M:%S')\n",
    "tr_sessions_gb = tr_sessions.groupby(['session_id'])\n",
    "\n",
    "from collections import defaultdict\n",
    "dic = defaultdict(list)\n",
    "for gr_name, gr in tr_sessions_gb:\n",
    "  dic['session_id'].append(gr_name)\n",
    "  dic['s_year'].append(int(gr.iloc[0,:]['date'].year)) #categorical\n",
    "  dic['s_month'].append(int(gr.iloc[0,:]['date'].month)) #categorical\n",
    "  dic['s_day'].append(int(gr.iloc[0,:]['date'].day)) #categorical\n",
    "  dic['s_hour'].append(int(gr.iloc[0,:]['date'].hour)) #categorical\n",
    "  dic['s_weekofyear'].append(int(gr.iloc[0,:]['date'].weekofyear))\n",
    "  dic['s_weekday'].append(int(gr.iloc[0,:]['date'].weekday())) #categorical\n",
    "  dic['e_year'].append(int(gr.iloc[-1,:]['date'].year)) #categorical\n",
    "  dic['e_month'].append(int(gr.iloc[-1,:]['date'].month)) #categorical\n",
    "  dic['e_day'].append(int(gr.iloc[-1,:]['date'].day)) #categorical\n",
    "  dic['e_hour'].append(int(gr.iloc[-1,:]['date'].hour)) #categorical\n",
    "  dic['e_weekofyear'].append(int(gr.iloc[-1,:]['date'].weekofyear))\n",
    "  dic['e_weekday'].append(int(gr.iloc[-1,:]['date'].weekday())) #categorical\n",
    "  dic['num_clicks'].append(gr.shape[0]) #numerical\n",
    "  dic['num_items'].append(len(gr['item_id'].unique()))\n",
    "  dic['num_cate'].append(get_num_cate(gr))\n",
    "  dic['num_val'].append(get_num_val(gr))\n",
    "  dic['duration'].append((gr.iloc[-1,:]['date'] - gr.iloc[0,:]['date']).total_seconds()/60)\n",
    "pd.DataFrame(dic).to_csv('./feat_extract2.csv')"
   ]
  },
  {
   "cell_type": "code",
   "execution_count": 5,
   "metadata": {},
   "outputs": [
    {
     "name": "stdout",
     "output_type": "stream",
     "text": [
      "(1000000, 18)\n",
      "Index(['session_id', 's_year', 's_month', 's_day', 's_hour', 's_weekofyear',\n",
      "       's_weekday', 'e_year', 'e_month', 'e_day', 'e_hour', 'e_weekofyear',\n",
      "       'e_weekday', 'num_clicks', 'num_items', 'num_cate', 'num_val',\n",
      "       'duration'],\n",
      "      dtype='object')\n"
     ]
    }
   ],
   "source": [
    "## load feature\n",
    "X = pd.read_csv('./feat_extract2.csv').iloc[:,1:]\n",
    "# X = X[[\"session_id\",'year', 'month', 'day', 'hour', 'weekofyear', 'weekday', 'num_clicks', 'duration']]\n",
    "print(X.shape)\n",
    "print(X.columns)\n"
   ]
  },
  {
   "cell_type": "code",
   "execution_count": null,
   "metadata": {},
   "outputs": [],
   "source": [
    "## reset index for session and item id categorical "
   ]
  },
  {
   "cell_type": "markdown",
   "metadata": {},
   "source": [
    "### LGBMRanker"
   ]
  },
  {
   "cell_type": "code",
   "execution_count": 6,
   "metadata": {},
   "outputs": [],
   "source": [
    "import lightgbm as lgb\n",
    "gbm = lgb.LGBMRanker(max_depth=20, num_leaves=1024, subsample_for_bin=100000, colsample_bytree=1.0)"
   ]
  },
  {
   "cell_type": "code",
   "execution_count": null,
   "metadata": {},
   "outputs": [],
   "source": [
    "\n",
    "\n",
    "y = pd.read_csv('./train_purchases.csv')\n",
    "print(X.shape, y.shape)\n",
    "print(X.columns)\n",
    "print( y.columns)\n",
    "li = []\n",
    "for i, row in X.iterrows():\n",
    "  label = y.at[i,'item_id']\n",
    "  # label = y.loc[row['session_id'] == y['session_id']]['item_id']\n",
    "  li.append(label)\n",
    "print(li[:10])\n",
    "\n"
   ]
  },
  {
   "cell_type": "code",
   "execution_count": 7,
   "metadata": {},
   "outputs": [
    {
     "name": "stdout",
     "output_type": "stream",
     "text": [
      "Index(['Unnamed: 0', 'item_id'], dtype='object')\n"
     ]
    }
   ],
   "source": [
    "# y = pd.DataFrame(li, columns=['item_id'])\n",
    "# print(y.shape)\n",
    "# y.to_csv('./feat_extract_y.csv')\n",
    "y = pd.read_csv('./feat_extract_y.csv')\n",
    "print(y.columns)\n",
    "y = y['item_id']"
   ]
  },
  {
   "cell_type": "code",
   "execution_count": 8,
   "metadata": {},
   "outputs": [],
   "source": [
    "from sklearn.model_selection import train_test_split\n",
    "X_train, X_test, y_train, y_test = train_test_split(X, y, test_size=0.2, random_state=1)\n",
    "X_train, X_val, y_train, y_val = train_test_split(X_train, y_train, test_size=0.2, random_state=1)\n",
    "\n",
    "query_train = [1000 for _ in range(X_train.shape[0]//1000)]\n",
    "query_val = [1000 for _ in range(X_val.shape[0]//1000)]\n",
    "query_test = [1000 for _ in range(X_test.shape[0]//1000)]"
   ]
  },
  {
   "cell_type": "code",
   "execution_count": 9,
   "metadata": {},
   "outputs": [],
   "source": [
    "import lightgbm as lgb\n",
    "import numpy as np\n",
    "label_gain = 2**np.arange(0,28144)\n",
    "gbm = lgb.LGBMRanker(\n",
    "  learning_rate=0.05, n_estimators=900, min_child_samples=5, min_child_weight=0.00001, n_jobs=-2,objective='rank_xendcg', label_gain = label_gain\n",
    "  )"
   ]
  },
  {
   "cell_type": "code",
   "execution_count": 10,
   "metadata": {},
   "outputs": [
    {
     "name": "stderr",
     "output_type": "stream",
     "text": [
      "/home/seongha/anaconda3/envs/serec/lib/python3.8/site-packages/lightgbm/sklearn.py:726: UserWarning: 'early_stopping_rounds' argument is deprecated and will be removed in a future release of LightGBM. Pass 'early_stopping()' callback via 'callbacks' argument instead.\n",
      "  _log_warning(\"'early_stopping_rounds' argument is deprecated and will be removed in a future release of LightGBM. \"\n",
      "/home/seongha/anaconda3/envs/serec/lib/python3.8/site-packages/lightgbm/sklearn.py:736: UserWarning: 'verbose' argument is deprecated and will be removed in a future release of LightGBM. Pass 'log_evaluation()' callback via 'callbacks' argument instead.\n",
      "  _log_warning(\"'verbose' argument is deprecated and will be removed in a future release of LightGBM. \"\n"
     ]
    },
    {
     "name": "stdout",
     "output_type": "stream",
     "text": [
      "[1]\tvalid_0's ndcg@5: 1\tvalid_0's ndcg@10: 1\tvalid_0's ndcg@20: 1\n",
      "[2]\tvalid_0's ndcg@5: 1\tvalid_0's ndcg@10: 1\tvalid_0's ndcg@20: 1\n",
      "[3]\tvalid_0's ndcg@5: 1\tvalid_0's ndcg@10: 1\tvalid_0's ndcg@20: 1\n",
      "[4]\tvalid_0's ndcg@5: 1\tvalid_0's ndcg@10: 1\tvalid_0's ndcg@20: 1\n",
      "[5]\tvalid_0's ndcg@5: 1\tvalid_0's ndcg@10: 1\tvalid_0's ndcg@20: 1\n",
      "[6]\tvalid_0's ndcg@5: 1\tvalid_0's ndcg@10: 1\tvalid_0's ndcg@20: 1\n",
      "[7]\tvalid_0's ndcg@5: 1\tvalid_0's ndcg@10: 1\tvalid_0's ndcg@20: 1\n",
      "[8]\tvalid_0's ndcg@5: 1\tvalid_0's ndcg@10: 1\tvalid_0's ndcg@20: 1\n",
      "[9]\tvalid_0's ndcg@5: 1\tvalid_0's ndcg@10: 1\tvalid_0's ndcg@20: 1\n",
      "[10]\tvalid_0's ndcg@5: 1\tvalid_0's ndcg@10: 1\tvalid_0's ndcg@20: 1\n",
      "[11]\tvalid_0's ndcg@5: 1\tvalid_0's ndcg@10: 1\tvalid_0's ndcg@20: 1\n",
      "[12]\tvalid_0's ndcg@5: 1\tvalid_0's ndcg@10: 1\tvalid_0's ndcg@20: 1\n",
      "[13]\tvalid_0's ndcg@5: 1\tvalid_0's ndcg@10: 1\tvalid_0's ndcg@20: 1\n",
      "[14]\tvalid_0's ndcg@5: 1\tvalid_0's ndcg@10: 1\tvalid_0's ndcg@20: 1\n",
      "[15]\tvalid_0's ndcg@5: 1\tvalid_0's ndcg@10: 1\tvalid_0's ndcg@20: 1\n",
      "[16]\tvalid_0's ndcg@5: 1\tvalid_0's ndcg@10: 1\tvalid_0's ndcg@20: 1\n",
      "[17]\tvalid_0's ndcg@5: 1\tvalid_0's ndcg@10: 1\tvalid_0's ndcg@20: 1\n",
      "[18]\tvalid_0's ndcg@5: 1\tvalid_0's ndcg@10: 1\tvalid_0's ndcg@20: 1\n",
      "[19]\tvalid_0's ndcg@5: 1\tvalid_0's ndcg@10: 1\tvalid_0's ndcg@20: 1\n",
      "[20]\tvalid_0's ndcg@5: 1\tvalid_0's ndcg@10: 1\tvalid_0's ndcg@20: 1\n",
      "[21]\tvalid_0's ndcg@5: 1\tvalid_0's ndcg@10: 1\tvalid_0's ndcg@20: 1\n",
      "[22]\tvalid_0's ndcg@5: 1\tvalid_0's ndcg@10: 1\tvalid_0's ndcg@20: 1\n",
      "[23]\tvalid_0's ndcg@5: 1\tvalid_0's ndcg@10: 1\tvalid_0's ndcg@20: 1\n",
      "[24]\tvalid_0's ndcg@5: 1\tvalid_0's ndcg@10: 1\tvalid_0's ndcg@20: 1\n",
      "[25]\tvalid_0's ndcg@5: 1\tvalid_0's ndcg@10: 1\tvalid_0's ndcg@20: 1\n",
      "[26]\tvalid_0's ndcg@5: 1\tvalid_0's ndcg@10: 1\tvalid_0's ndcg@20: 1\n",
      "[27]\tvalid_0's ndcg@5: 1\tvalid_0's ndcg@10: 1\tvalid_0's ndcg@20: 1\n",
      "[28]\tvalid_0's ndcg@5: 1\tvalid_0's ndcg@10: 1\tvalid_0's ndcg@20: 1\n",
      "[29]\tvalid_0's ndcg@5: 1\tvalid_0's ndcg@10: 1\tvalid_0's ndcg@20: 1\n",
      "[30]\tvalid_0's ndcg@5: 1\tvalid_0's ndcg@10: 1\tvalid_0's ndcg@20: 1\n",
      "[31]\tvalid_0's ndcg@5: 1\tvalid_0's ndcg@10: 1\tvalid_0's ndcg@20: 1\n",
      "[32]\tvalid_0's ndcg@5: 1\tvalid_0's ndcg@10: 1\tvalid_0's ndcg@20: 1\n",
      "[33]\tvalid_0's ndcg@5: 1\tvalid_0's ndcg@10: 1\tvalid_0's ndcg@20: 1\n",
      "[34]\tvalid_0's ndcg@5: 1\tvalid_0's ndcg@10: 1\tvalid_0's ndcg@20: 1\n",
      "[35]\tvalid_0's ndcg@5: 1\tvalid_0's ndcg@10: 1\tvalid_0's ndcg@20: 1\n",
      "[36]\tvalid_0's ndcg@5: 1\tvalid_0's ndcg@10: 1\tvalid_0's ndcg@20: 1\n",
      "[37]\tvalid_0's ndcg@5: 1\tvalid_0's ndcg@10: 1\tvalid_0's ndcg@20: 1\n",
      "[38]\tvalid_0's ndcg@5: 1\tvalid_0's ndcg@10: 1\tvalid_0's ndcg@20: 1\n",
      "[39]\tvalid_0's ndcg@5: 1\tvalid_0's ndcg@10: 1\tvalid_0's ndcg@20: 1\n",
      "[40]\tvalid_0's ndcg@5: 1\tvalid_0's ndcg@10: 1\tvalid_0's ndcg@20: 1\n",
      "[41]\tvalid_0's ndcg@5: 1\tvalid_0's ndcg@10: 1\tvalid_0's ndcg@20: 1\n",
      "[42]\tvalid_0's ndcg@5: 1\tvalid_0's ndcg@10: 1\tvalid_0's ndcg@20: 1\n",
      "[43]\tvalid_0's ndcg@5: 1\tvalid_0's ndcg@10: 1\tvalid_0's ndcg@20: 1\n",
      "[44]\tvalid_0's ndcg@5: 1\tvalid_0's ndcg@10: 1\tvalid_0's ndcg@20: 1\n",
      "[45]\tvalid_0's ndcg@5: 1\tvalid_0's ndcg@10: 1\tvalid_0's ndcg@20: 1\n",
      "[46]\tvalid_0's ndcg@5: 1\tvalid_0's ndcg@10: 1\tvalid_0's ndcg@20: 1\n",
      "[47]\tvalid_0's ndcg@5: 1\tvalid_0's ndcg@10: 1\tvalid_0's ndcg@20: 1\n",
      "[48]\tvalid_0's ndcg@5: 1\tvalid_0's ndcg@10: 1\tvalid_0's ndcg@20: 1\n",
      "[49]\tvalid_0's ndcg@5: 1\tvalid_0's ndcg@10: 1\tvalid_0's ndcg@20: 1\n",
      "[50]\tvalid_0's ndcg@5: 1\tvalid_0's ndcg@10: 1\tvalid_0's ndcg@20: 1\n",
      "[51]\tvalid_0's ndcg@5: 1\tvalid_0's ndcg@10: 1\tvalid_0's ndcg@20: 1\n"
     ]
    },
    {
     "data": {
      "text/plain": [
       "LGBMRanker(label_gain=array([1, 2, 4, ..., 0, 0, 0]), learning_rate=0.05,\n",
       "           min_child_samples=5, min_child_weight=1e-05, n_estimators=900,\n",
       "           n_jobs=-2, objective='rank_xendcg')"
      ]
     },
     "execution_count": 10,
     "metadata": {},
     "output_type": "execute_result"
    }
   ],
   "source": [
    "gbm.fit(X_train, y_train, group=query_train,\n",
    "        eval_set=[(X_val, y_val)], eval_group=[query_val],\n",
    "        eval_at=[5, 10, 20], early_stopping_rounds=50,\n",
    "        # categorical_feature=['year','month','day','hour','weekofyear','weekday'],\n",
    "        verbose=True,\n",
    "        \n",
    "        )"
   ]
  },
  {
   "cell_type": "code",
   "execution_count": 11,
   "metadata": {},
   "outputs": [],
   "source": [
    "test_pred = gbm.predict(X_test)"
   ]
  },
  {
   "cell_type": "code",
   "execution_count": 20,
   "metadata": {},
   "outputs": [
    {
     "data": {
      "text/html": [
       "<div>\n",
       "<style scoped>\n",
       "    .dataframe tbody tr th:only-of-type {\n",
       "        vertical-align: middle;\n",
       "    }\n",
       "\n",
       "    .dataframe tbody tr th {\n",
       "        vertical-align: top;\n",
       "    }\n",
       "\n",
       "    .dataframe thead th {\n",
       "        text-align: right;\n",
       "    }\n",
       "</style>\n",
       "<table border=\"1\" class=\"dataframe\">\n",
       "  <thead>\n",
       "    <tr style=\"text-align: right;\">\n",
       "      <th></th>\n",
       "      <th>session_id</th>\n",
       "      <th>s_year</th>\n",
       "      <th>s_month</th>\n",
       "      <th>s_day</th>\n",
       "      <th>s_hour</th>\n",
       "      <th>s_weekofyear</th>\n",
       "      <th>s_weekday</th>\n",
       "      <th>e_year</th>\n",
       "      <th>e_month</th>\n",
       "      <th>e_day</th>\n",
       "      <th>e_hour</th>\n",
       "      <th>e_weekofyear</th>\n",
       "      <th>e_weekday</th>\n",
       "      <th>num_clicks</th>\n",
       "      <th>num_items</th>\n",
       "      <th>num_cate</th>\n",
       "      <th>num_val</th>\n",
       "      <th>duration</th>\n",
       "      <th>predicted_ranking</th>\n",
       "    </tr>\n",
       "  </thead>\n",
       "  <tbody>\n",
       "    <tr>\n",
       "      <th>690760</th>\n",
       "      <td>3067963</td>\n",
       "      <td>2021</td>\n",
       "      <td>1</td>\n",
       "      <td>22</td>\n",
       "      <td>18</td>\n",
       "      <td>3</td>\n",
       "      <td>4</td>\n",
       "      <td>2021</td>\n",
       "      <td>1</td>\n",
       "      <td>22</td>\n",
       "      <td>19</td>\n",
       "      <td>3</td>\n",
       "      <td>4</td>\n",
       "      <td>13</td>\n",
       "      <td>13</td>\n",
       "      <td>279</td>\n",
       "      <td>279</td>\n",
       "      <td>18.123967</td>\n",
       "      <td>2.533749e+18</td>\n",
       "    </tr>\n",
       "    <tr>\n",
       "      <th>696122</th>\n",
       "      <td>3091672</td>\n",
       "      <td>2021</td>\n",
       "      <td>2</td>\n",
       "      <td>20</td>\n",
       "      <td>18</td>\n",
       "      <td>7</td>\n",
       "      <td>5</td>\n",
       "      <td>2021</td>\n",
       "      <td>2</td>\n",
       "      <td>20</td>\n",
       "      <td>18</td>\n",
       "      <td>7</td>\n",
       "      <td>5</td>\n",
       "      <td>8</td>\n",
       "      <td>8</td>\n",
       "      <td>155</td>\n",
       "      <td>154</td>\n",
       "      <td>18.419167</td>\n",
       "      <td>2.533749e+18</td>\n",
       "    </tr>\n",
       "    <tr>\n",
       "      <th>693917</th>\n",
       "      <td>3082052</td>\n",
       "      <td>2020</td>\n",
       "      <td>11</td>\n",
       "      <td>27</td>\n",
       "      <td>22</td>\n",
       "      <td>48</td>\n",
       "      <td>4</td>\n",
       "      <td>2020</td>\n",
       "      <td>11</td>\n",
       "      <td>27</td>\n",
       "      <td>23</td>\n",
       "      <td>48</td>\n",
       "      <td>4</td>\n",
       "      <td>3</td>\n",
       "      <td>3</td>\n",
       "      <td>66</td>\n",
       "      <td>65</td>\n",
       "      <td>81.510617</td>\n",
       "      <td>2.516776e+18</td>\n",
       "    </tr>\n",
       "    <tr>\n",
       "      <th>559216</th>\n",
       "      <td>2482335</td>\n",
       "      <td>2020</td>\n",
       "      <td>9</td>\n",
       "      <td>25</td>\n",
       "      <td>22</td>\n",
       "      <td>39</td>\n",
       "      <td>4</td>\n",
       "      <td>2020</td>\n",
       "      <td>9</td>\n",
       "      <td>25</td>\n",
       "      <td>23</td>\n",
       "      <td>39</td>\n",
       "      <td>4</td>\n",
       "      <td>3</td>\n",
       "      <td>2</td>\n",
       "      <td>64</td>\n",
       "      <td>64</td>\n",
       "      <td>42.919517</td>\n",
       "      <td>2.516776e+18</td>\n",
       "    </tr>\n",
       "    <tr>\n",
       "      <th>304737</th>\n",
       "      <td>1355218</td>\n",
       "      <td>2021</td>\n",
       "      <td>2</td>\n",
       "      <td>11</td>\n",
       "      <td>21</td>\n",
       "      <td>6</td>\n",
       "      <td>3</td>\n",
       "      <td>2021</td>\n",
       "      <td>2</td>\n",
       "      <td>11</td>\n",
       "      <td>21</td>\n",
       "      <td>6</td>\n",
       "      <td>3</td>\n",
       "      <td>3</td>\n",
       "      <td>3</td>\n",
       "      <td>54</td>\n",
       "      <td>53</td>\n",
       "      <td>0.488883</td>\n",
       "      <td>1.808039e+18</td>\n",
       "    </tr>\n",
       "    <tr>\n",
       "      <th>...</th>\n",
       "      <td>...</td>\n",
       "      <td>...</td>\n",
       "      <td>...</td>\n",
       "      <td>...</td>\n",
       "      <td>...</td>\n",
       "      <td>...</td>\n",
       "      <td>...</td>\n",
       "      <td>...</td>\n",
       "      <td>...</td>\n",
       "      <td>...</td>\n",
       "      <td>...</td>\n",
       "      <td>...</td>\n",
       "      <td>...</td>\n",
       "      <td>...</td>\n",
       "      <td>...</td>\n",
       "      <td>...</td>\n",
       "      <td>...</td>\n",
       "      <td>...</td>\n",
       "      <td>...</td>\n",
       "    </tr>\n",
       "    <tr>\n",
       "      <th>750678</th>\n",
       "      <td>3332965</td>\n",
       "      <td>2021</td>\n",
       "      <td>1</td>\n",
       "      <td>9</td>\n",
       "      <td>8</td>\n",
       "      <td>1</td>\n",
       "      <td>5</td>\n",
       "      <td>2021</td>\n",
       "      <td>1</td>\n",
       "      <td>9</td>\n",
       "      <td>8</td>\n",
       "      <td>1</td>\n",
       "      <td>5</td>\n",
       "      <td>6</td>\n",
       "      <td>5</td>\n",
       "      <td>149</td>\n",
       "      <td>149</td>\n",
       "      <td>18.416417</td>\n",
       "      <td>-5.242817e+16</td>\n",
       "    </tr>\n",
       "    <tr>\n",
       "      <th>776515</th>\n",
       "      <td>3447814</td>\n",
       "      <td>2021</td>\n",
       "      <td>1</td>\n",
       "      <td>30</td>\n",
       "      <td>9</td>\n",
       "      <td>4</td>\n",
       "      <td>5</td>\n",
       "      <td>2021</td>\n",
       "      <td>1</td>\n",
       "      <td>30</td>\n",
       "      <td>9</td>\n",
       "      <td>4</td>\n",
       "      <td>5</td>\n",
       "      <td>9</td>\n",
       "      <td>6</td>\n",
       "      <td>162</td>\n",
       "      <td>163</td>\n",
       "      <td>18.410283</td>\n",
       "      <td>-5.242817e+16</td>\n",
       "    </tr>\n",
       "    <tr>\n",
       "      <th>707075</th>\n",
       "      <td>3140542</td>\n",
       "      <td>2021</td>\n",
       "      <td>1</td>\n",
       "      <td>27</td>\n",
       "      <td>19</td>\n",
       "      <td>4</td>\n",
       "      <td>2</td>\n",
       "      <td>2021</td>\n",
       "      <td>1</td>\n",
       "      <td>27</td>\n",
       "      <td>19</td>\n",
       "      <td>4</td>\n",
       "      <td>2</td>\n",
       "      <td>2</td>\n",
       "      <td>2</td>\n",
       "      <td>36</td>\n",
       "      <td>35</td>\n",
       "      <td>18.327383</td>\n",
       "      <td>-5.242817e+16</td>\n",
       "    </tr>\n",
       "    <tr>\n",
       "      <th>919876</th>\n",
       "      <td>4084367</td>\n",
       "      <td>2021</td>\n",
       "      <td>1</td>\n",
       "      <td>29</td>\n",
       "      <td>17</td>\n",
       "      <td>4</td>\n",
       "      <td>4</td>\n",
       "      <td>2021</td>\n",
       "      <td>1</td>\n",
       "      <td>29</td>\n",
       "      <td>17</td>\n",
       "      <td>4</td>\n",
       "      <td>4</td>\n",
       "      <td>6</td>\n",
       "      <td>4</td>\n",
       "      <td>150</td>\n",
       "      <td>150</td>\n",
       "      <td>17.920617</td>\n",
       "      <td>-5.242817e+16</td>\n",
       "    </tr>\n",
       "    <tr>\n",
       "      <th>782545</th>\n",
       "      <td>3474548</td>\n",
       "      <td>2020</td>\n",
       "      <td>1</td>\n",
       "      <td>19</td>\n",
       "      <td>8</td>\n",
       "      <td>3</td>\n",
       "      <td>6</td>\n",
       "      <td>2020</td>\n",
       "      <td>1</td>\n",
       "      <td>19</td>\n",
       "      <td>8</td>\n",
       "      <td>3</td>\n",
       "      <td>6</td>\n",
       "      <td>10</td>\n",
       "      <td>9</td>\n",
       "      <td>171</td>\n",
       "      <td>193</td>\n",
       "      <td>18.057917</td>\n",
       "      <td>-5.242817e+16</td>\n",
       "    </tr>\n",
       "  </tbody>\n",
       "</table>\n",
       "<p>200000 rows × 19 columns</p>\n",
       "</div>"
      ],
      "text/plain": [
       "        session_id  s_year  s_month  s_day  s_hour  s_weekofyear  s_weekday  \\\n",
       "690760     3067963    2021        1     22      18             3          4   \n",
       "696122     3091672    2021        2     20      18             7          5   \n",
       "693917     3082052    2020       11     27      22            48          4   \n",
       "559216     2482335    2020        9     25      22            39          4   \n",
       "304737     1355218    2021        2     11      21             6          3   \n",
       "...            ...     ...      ...    ...     ...           ...        ...   \n",
       "750678     3332965    2021        1      9       8             1          5   \n",
       "776515     3447814    2021        1     30       9             4          5   \n",
       "707075     3140542    2021        1     27      19             4          2   \n",
       "919876     4084367    2021        1     29      17             4          4   \n",
       "782545     3474548    2020        1     19       8             3          6   \n",
       "\n",
       "        e_year  e_month  e_day  e_hour  e_weekofyear  e_weekday  num_clicks  \\\n",
       "690760    2021        1     22      19             3          4          13   \n",
       "696122    2021        2     20      18             7          5           8   \n",
       "693917    2020       11     27      23            48          4           3   \n",
       "559216    2020        9     25      23            39          4           3   \n",
       "304737    2021        2     11      21             6          3           3   \n",
       "...        ...      ...    ...     ...           ...        ...         ...   \n",
       "750678    2021        1      9       8             1          5           6   \n",
       "776515    2021        1     30       9             4          5           9   \n",
       "707075    2021        1     27      19             4          2           2   \n",
       "919876    2021        1     29      17             4          4           6   \n",
       "782545    2020        1     19       8             3          6          10   \n",
       "\n",
       "        num_items  num_cate  num_val   duration  predicted_ranking  \n",
       "690760         13       279      279  18.123967       2.533749e+18  \n",
       "696122          8       155      154  18.419167       2.533749e+18  \n",
       "693917          3        66       65  81.510617       2.516776e+18  \n",
       "559216          2        64       64  42.919517       2.516776e+18  \n",
       "304737          3        54       53   0.488883       1.808039e+18  \n",
       "...           ...       ...      ...        ...                ...  \n",
       "750678          5       149      149  18.416417      -5.242817e+16  \n",
       "776515          6       162      163  18.410283      -5.242817e+16  \n",
       "707075          2        36       35  18.327383      -5.242817e+16  \n",
       "919876          4       150      150  17.920617      -5.242817e+16  \n",
       "782545          9       171      193  18.057917      -5.242817e+16  \n",
       "\n",
       "[200000 rows x 19 columns]"
      ]
     },
     "execution_count": 20,
     "metadata": {},
     "output_type": "execute_result"
    }
   ],
   "source": [
    "X_test_cp = X_test\n",
    "X_test_cp[\"predicted_ranking\"] = test_pred\n",
    "X_test_cp.sort_values(\"predicted_ranking\", ascending=False)\n",
    "# X_test_cp[['session_id', 'predicted_ranking']].to_csv('./X_test_cp.csv')"
   ]
  },
  {
   "cell_type": "markdown",
   "metadata": {},
   "source": [
    "# 2. Item related features"
   ]
  },
  {
   "cell_type": "code",
   "execution_count": 4,
   "metadata": {},
   "outputs": [
    {
     "name": "stdout",
     "output_type": "stream",
     "text": [
      "Index(['item_id', 'feature_category_id', 'feature_value_id'], dtype='object')\n",
      "   item_id  feature_category_id  feature_value_id\n",
      "0        2                   56               365\n",
      "1        2                   62               801\n",
      "2        2                   68               351\n",
      "3        2                   33               802\n",
      "4        2                   72                75\n"
     ]
    }
   ],
   "source": [
    "item_feat = pd.read_csv('./item_features.csv')\n",
    "print(item_feat.columns)\n",
    "print(item_feat.head())\n",
    "\n",
    "## item_feat to multi-hot\n",
    "# from sklearn.preprocessing import MultiLabelBinarizer\n",
    "# mlb = MultiLabelBinarizer()\n",
    "# mlb.fit([item_feat['feature_category_id'].unique()])\n",
    "# mlb.classes_\n",
    "# item_feat.groupby(['item_id'])"
   ]
  },
  {
   "cell_type": "code",
   "execution_count": 3,
   "metadata": {},
   "outputs": [
    {
     "name": "stdout",
     "output_type": "stream",
     "text": [
      "Index(['session_id', 'Unnamed: 1', 'session_id.1', 'item_id', 'date'], dtype='object')\n"
     ]
    },
    {
     "ename": "NameError",
     "evalue": "name 'item_feat' is not defined",
     "output_type": "error",
     "traceback": [
      "\u001b[0;31m---------------------------------------------------------------------------\u001b[0m",
      "\u001b[0;31mNameError\u001b[0m                                 Traceback (most recent call last)",
      "\u001b[1;32m/home/seongha/RecSys2022/dressipi_recsys2022/feat_extract.ipynb Cell 20'\u001b[0m in \u001b[0;36m<cell line: 2>\u001b[0;34m()\u001b[0m\n\u001b[1;32m      <a href='vscode-notebook-cell://ssh-remote%2B143.248.157.143/home/seongha/RecSys2022/dressipi_recsys2022/feat_extract.ipynb#ch0000028vscode-remote?line=0'>1</a>\u001b[0m \u001b[39mprint\u001b[39m(tr_sessions\u001b[39m.\u001b[39mcolumns)\n\u001b[0;32m----> <a href='vscode-notebook-cell://ssh-remote%2B143.248.157.143/home/seongha/RecSys2022/dressipi_recsys2022/feat_extract.ipynb#ch0000028vscode-remote?line=1'>2</a>\u001b[0m \u001b[39mprint\u001b[39m(item_feat\u001b[39m.\u001b[39mcolumns)\n",
      "\u001b[0;31mNameError\u001b[0m: name 'item_feat' is not defined"
     ]
    }
   ],
   "source": [
    "print(tr_sessions.columns)\n",
    "print(item_feat.columns)\n"
   ]
  },
  {
   "cell_type": "markdown",
   "metadata": {},
   "source": [
    "### EDA"
   ]
  },
  {
   "cell_type": "code",
   "execution_count": 23,
   "metadata": {},
   "outputs": [
    {
     "name": "stdout",
     "output_type": "stream",
     "text": [
      "73 1 73\n",
      "890 1 905\n",
      "Number of NAN values: 0\n",
      "Number of NAN values: 0\n"
     ]
    }
   ],
   "source": [
    "print(len(item_feat['feature_category_id'].unique()),  min(item_feat['feature_category_id'].unique()), max(item_feat['feature_category_id'].unique()))\n",
    "print(len(item_feat['feature_value_id'].unique()), min(item_feat['feature_value_id'].unique()), max(item_feat['feature_value_id'].unique()))\n",
    "print('Number of NAN values:', item_feat['feature_category_id'].isna().sum())\n",
    "print('Number of NAN values:', item_feat['feature_value_id'].isna().sum())"
   ]
  },
  {
   "cell_type": "code",
   "execution_count": 13,
   "metadata": {},
   "outputs": [],
   "source": [
    "## find correlation - Cramer's V statistics, Uncertainty Coeffcient\n",
    "## source: https://www.kaggle.com/code/vadbeg/pytorch-nn-with-embeddings-and-catboost/notebook\n",
    "\n",
    "from scipy.stats import chi2_contingency, entropy\n",
    "from collections import Counter\n",
    "import numpy as np\n",
    "\n",
    "def cramers_v(x, y):\n",
    "    \"\"\"\n",
    "        Calculates Cramer's V statistic for categorical-categorical association.\n",
    "        \n",
    "        :param x: pd.Series or np.array\n",
    "        :param y: pd.Series or np.array \n",
    "        \n",
    "        :return: Cramer's V statistic, float in range of [0, 1]\n",
    "    \"\"\"\n",
    "    \n",
    "    confusion_matrix = pd.crosstab(x, y)\n",
    "    \n",
    "    chi2 = chi2_contingency(confusion_matrix)[0]\n",
    "    \n",
    "    n = confusion_matrix.sum().sum()\n",
    "    \n",
    "    r, k = confusion_matrix.shape\n",
    "    phi_2 = chi2 / n\n",
    "    \n",
    "    phi2corr = max(0, phi_2 - ((k - 1) * (r - 1)) / (n - 1))\n",
    "    \n",
    "    rcorr = r - ((r - 1) ** 2) / (n - 1)\n",
    "    kcorr = k - ((k - 1) ** 2) / (n - 1)\n",
    "    \n",
    "    res = np.sqrt(phi2corr / min(kcorr - 1, rcorr - 1))\n",
    "    \n",
    "    return res\n",
    "\n",
    "def conditional_entropy(x, y):\n",
    "    \"\"\"\n",
    "        Calculates the conditional entropy of x given y: S(x|y)\n",
    "    \n",
    "        :param x: pd.Series or np.array\n",
    "        :param y: pd.Series or np.array \n",
    "        \n",
    "        :return: float\n",
    "    \"\"\"\n",
    "    \n",
    "    y_counter = Counter(y)\n",
    "    xy_counter = Counter((list(zip(x, y))))\n",
    "    \n",
    "    total_occurrences = sum(y_counter.values())\n",
    "    entropy = 0.0\n",
    "    \n",
    "    for xy in xy_counter.keys():\n",
    "        p_xy = xy_counter[xy] / total_occurrences\n",
    "        p_y = y_counter[xy[1]] / total_occurrences\n",
    "        \n",
    "        entropy += p_xy * np.log(p_y / p_xy)\n",
    "        \n",
    "    return entropy\n",
    "\n",
    "def theils_u(x, y):\n",
    "    \"\"\"\n",
    "        Calculates Theil's U statistic (Uncertainty coefficient) for categorical-categorical association.\n",
    "    \n",
    "        :param x: pd.Series or np.array\n",
    "        :param y: pd.Series or np.array \n",
    "        \n",
    "        :return: Theil's U statistic, float in range of [0, 1]\n",
    "    \"\"\"\n",
    "    \n",
    "    s_xy = conditional_entropy(x, y)\n",
    "    x_counter = Counter(x)\n",
    "    \n",
    "    total_occurrences = sum(x_counter.values())\n",
    "    \n",
    "    p_x = list(map(lambda n: n / total_occurrences, x_counter.values()))\n",
    "    s_x = entropy(p_x)\n",
    "    \n",
    "    if s_x == 0:\n",
    "        return 1\n",
    "    \n",
    "    else:\n",
    "        return (s_x - s_xy) / s_x\n",
    "        \n"
   ]
  },
  {
   "cell_type": "code",
   "execution_count": 16,
   "metadata": {},
   "outputs": [],
   "source": [
    "import matplotlib.pyplot as plt\n",
    "plt.style.use('ggplot')\n",
    "import seaborn as sns\n"
   ]
  },
  {
   "cell_type": "code",
   "execution_count": 23,
   "metadata": {},
   "outputs": [
    {
     "data": {
      "text/plain": [
       "<AxesSubplot:title={'center':'Cramers V'}>"
      ]
     },
     "execution_count": 23,
     "metadata": {},
     "output_type": "execute_result"
    },
    {
     "data": {
      "image/png": "[encoded data removed]",
      "text/plain": [
       "<Figure size 288x288 with 2 Axes>"
      ]
     },
     "metadata": {
      "needs_background": "light"
     },
     "output_type": "display_data"
    }
   ],
   "source": [
    "\n",
    "plt.rcParams.update({'font.size': 10})\n",
    "\n",
    "plt.subplots(figsize=(4, 4))\n",
    "plt.title('Cramers V')\n",
    "\n",
    "corr_res = round(item_feat.corr(method=cramers_v), 2)\n",
    "sns.heatmap(corr_res, annot=True)\n",
    "\n"
   ]
  },
  {
   "cell_type": "code",
   "execution_count": 19,
   "metadata": {},
   "outputs": [
    {
     "data": {
      "text/plain": [
       "<AxesSubplot:title={'center':'Pearson'}>"
      ]
     },
     "execution_count": 19,
     "metadata": {},
     "output_type": "execute_result"
    },
    {
     "data": {
      "image/png": "[encoded data removed]",
      "text/plain": [
       "<Figure size 288x288 with 2 Axes>"
      ]
     },
     "metadata": {
      "needs_background": "light"
     },
     "output_type": "display_data"
    }
   ],
   "source": [
    "plt.subplots(figsize=(4, 4))\n",
    "plt.title('Pearson')\n",
    "\n",
    "\n",
    "corr_simple_res = round(item_feat.corr(), 2)\n",
    "sns.heatmap(corr_simple_res, annot=True)"
   ]
  },
  {
   "cell_type": "code",
   "execution_count": 26,
   "metadata": {},
   "outputs": [
    {
     "name": "stdout",
     "output_type": "stream",
     "text": [
      "Index(['Unnamed: 0', 'session_id', 'item_first_clicked', 'year', 'month',\n",
      "       'day', 'hour', 'weekofyear', 'weekday', 'num_clicks', 'duration'],\n",
      "      dtype='object')\n"
     ]
    },
    {
     "ename": "ValueError",
     "evalue": "Grouper for 'item_first_clicked' not 1-dimensional",
     "output_type": "error",
     "traceback": [
      "\u001b[0;31m---------------------------------------------------------------------------\u001b[0m",
      "\u001b[0;31mValueError\u001b[0m                                Traceback (most recent call last)",
      "\u001b[1;32m/home/seongha/RecSys2022/dressipi_recsys2022/feat_extract.ipynb Cell 23'\u001b[0m in \u001b[0;36m<cell line: 3>\u001b[0;34m()\u001b[0m\n\u001b[1;32m      <a href='vscode-notebook-cell://ssh-remote%2B143.248.157.143/home/seongha/RecSys2022/dressipi_recsys2022/feat_extract.ipynb#ch0000023vscode-remote?line=0'>1</a>\u001b[0m X \u001b[39m=\u001b[39m pd\u001b[39m.\u001b[39mread_csv(\u001b[39m'\u001b[39m\u001b[39m./feat_extract.csv\u001b[39m\u001b[39m'\u001b[39m)\n\u001b[1;32m      <a href='vscode-notebook-cell://ssh-remote%2B143.248.157.143/home/seongha/RecSys2022/dressipi_recsys2022/feat_extract.ipynb#ch0000023vscode-remote?line=1'>2</a>\u001b[0m \u001b[39mprint\u001b[39m(X\u001b[39m.\u001b[39mcolumns)\n\u001b[0;32m----> <a href='vscode-notebook-cell://ssh-remote%2B143.248.157.143/home/seongha/RecSys2022/dressipi_recsys2022/feat_extract.ipynb#ch0000023vscode-remote?line=2'>3</a>\u001b[0m pivot_mean \u001b[39m=\u001b[39m pd\u001b[39m.\u001b[39;49mpivot_table(X, index\u001b[39m=\u001b[39;49m[\u001b[39m'\u001b[39;49m\u001b[39mitem_first_clicked\u001b[39;49m\u001b[39m'\u001b[39;49m], columns \u001b[39m=\u001b[39;49m [\u001b[39m'\u001b[39;49m\u001b[39mitem_first_clicked\u001b[39;49m\u001b[39m'\u001b[39;49m], values\u001b[39m=\u001b[39;49m[\u001b[39m'\u001b[39;49m\u001b[39mhour\u001b[39;49m\u001b[39m'\u001b[39;49m])\n",
      "File \u001b[0;32m~/anaconda3/envs/serec/lib/python3.8/site-packages/pandas/core/reshape/pivot.py:95\u001b[0m, in \u001b[0;36mpivot_table\u001b[0;34m(data, values, index, columns, aggfunc, fill_value, margins, dropna, margins_name, observed, sort)\u001b[0m\n\u001b[1;32m     <a href='file:///home/seongha/anaconda3/envs/serec/lib/python3.8/site-packages/pandas/core/reshape/pivot.py?line=91'>92</a>\u001b[0m     table \u001b[39m=\u001b[39m concat(pieces, keys\u001b[39m=\u001b[39mkeys, axis\u001b[39m=\u001b[39m\u001b[39m1\u001b[39m)\n\u001b[1;32m     <a href='file:///home/seongha/anaconda3/envs/serec/lib/python3.8/site-packages/pandas/core/reshape/pivot.py?line=92'>93</a>\u001b[0m     \u001b[39mreturn\u001b[39;00m table\u001b[39m.\u001b[39m__finalize__(data, method\u001b[39m=\u001b[39m\u001b[39m\"\u001b[39m\u001b[39mpivot_table\u001b[39m\u001b[39m\"\u001b[39m)\n\u001b[0;32m---> <a href='file:///home/seongha/anaconda3/envs/serec/lib/python3.8/site-packages/pandas/core/reshape/pivot.py?line=94'>95</a>\u001b[0m table \u001b[39m=\u001b[39m __internal_pivot_table(\n\u001b[1;32m     <a href='file:///home/seongha/anaconda3/envs/serec/lib/python3.8/site-packages/pandas/core/reshape/pivot.py?line=95'>96</a>\u001b[0m     data,\n\u001b[1;32m     <a href='file:///home/seongha/anaconda3/envs/serec/lib/python3.8/site-packages/pandas/core/reshape/pivot.py?line=96'>97</a>\u001b[0m     values,\n\u001b[1;32m     <a href='file:///home/seongha/anaconda3/envs/serec/lib/python3.8/site-packages/pandas/core/reshape/pivot.py?line=97'>98</a>\u001b[0m     index,\n\u001b[1;32m     <a href='file:///home/seongha/anaconda3/envs/serec/lib/python3.8/site-packages/pandas/core/reshape/pivot.py?line=98'>99</a>\u001b[0m     columns,\n\u001b[1;32m    <a href='file:///home/seongha/anaconda3/envs/serec/lib/python3.8/site-packages/pandas/core/reshape/pivot.py?line=99'>100</a>\u001b[0m     aggfunc,\n\u001b[1;32m    <a href='file:///home/seongha/anaconda3/envs/serec/lib/python3.8/site-packages/pandas/core/reshape/pivot.py?line=100'>101</a>\u001b[0m     fill_value,\n\u001b[1;32m    <a href='file:///home/seongha/anaconda3/envs/serec/lib/python3.8/site-packages/pandas/core/reshape/pivot.py?line=101'>102</a>\u001b[0m     margins,\n\u001b[1;32m    <a href='file:///home/seongha/anaconda3/envs/serec/lib/python3.8/site-packages/pandas/core/reshape/pivot.py?line=102'>103</a>\u001b[0m     dropna,\n\u001b[1;32m    <a href='file:///home/seongha/anaconda3/envs/serec/lib/python3.8/site-packages/pandas/core/reshape/pivot.py?line=103'>104</a>\u001b[0m     margins_name,\n\u001b[1;32m    <a href='file:///home/seongha/anaconda3/envs/serec/lib/python3.8/site-packages/pandas/core/reshape/pivot.py?line=104'>105</a>\u001b[0m     observed,\n\u001b[1;32m    <a href='file:///home/seongha/anaconda3/envs/serec/lib/python3.8/site-packages/pandas/core/reshape/pivot.py?line=105'>106</a>\u001b[0m     sort,\n\u001b[1;32m    <a href='file:///home/seongha/anaconda3/envs/serec/lib/python3.8/site-packages/pandas/core/reshape/pivot.py?line=106'>107</a>\u001b[0m )\n\u001b[1;32m    <a href='file:///home/seongha/anaconda3/envs/serec/lib/python3.8/site-packages/pandas/core/reshape/pivot.py?line=107'>108</a>\u001b[0m \u001b[39mreturn\u001b[39;00m table\u001b[39m.\u001b[39m__finalize__(data, method\u001b[39m=\u001b[39m\u001b[39m\"\u001b[39m\u001b[39mpivot_table\u001b[39m\u001b[39m\"\u001b[39m)\n",
      "File \u001b[0;32m~/anaconda3/envs/serec/lib/python3.8/site-packages/pandas/core/reshape/pivot.py:164\u001b[0m, in \u001b[0;36m__internal_pivot_table\u001b[0;34m(data, values, index, columns, aggfunc, fill_value, margins, dropna, margins_name, observed, sort)\u001b[0m\n\u001b[1;32m    <a href='file:///home/seongha/anaconda3/envs/serec/lib/python3.8/site-packages/pandas/core/reshape/pivot.py?line=160'>161</a>\u001b[0m             \u001b[39mpass\u001b[39;00m\n\u001b[1;32m    <a href='file:///home/seongha/anaconda3/envs/serec/lib/python3.8/site-packages/pandas/core/reshape/pivot.py?line=161'>162</a>\u001b[0m     values \u001b[39m=\u001b[39m \u001b[39mlist\u001b[39m(values)\n\u001b[0;32m--> <a href='file:///home/seongha/anaconda3/envs/serec/lib/python3.8/site-packages/pandas/core/reshape/pivot.py?line=163'>164</a>\u001b[0m grouped \u001b[39m=\u001b[39m data\u001b[39m.\u001b[39;49mgroupby(keys, observed\u001b[39m=\u001b[39;49mobserved, sort\u001b[39m=\u001b[39;49msort)\n\u001b[1;32m    <a href='file:///home/seongha/anaconda3/envs/serec/lib/python3.8/site-packages/pandas/core/reshape/pivot.py?line=164'>165</a>\u001b[0m agged \u001b[39m=\u001b[39m grouped\u001b[39m.\u001b[39magg(aggfunc)\n\u001b[1;32m    <a href='file:///home/seongha/anaconda3/envs/serec/lib/python3.8/site-packages/pandas/core/reshape/pivot.py?line=165'>166</a>\u001b[0m \u001b[39mif\u001b[39;00m dropna \u001b[39mand\u001b[39;00m \u001b[39misinstance\u001b[39m(agged, ABCDataFrame) \u001b[39mand\u001b[39;00m \u001b[39mlen\u001b[39m(agged\u001b[39m.\u001b[39mcolumns):\n",
      "File \u001b[0;32m~/anaconda3/envs/serec/lib/python3.8/site-packages/pandas/core/frame.py:7631\u001b[0m, in \u001b[0;36mDataFrame.groupby\u001b[0;34m(self, by, axis, level, as_index, sort, group_keys, squeeze, observed, dropna)\u001b[0m\n\u001b[1;32m   <a href='file:///home/seongha/anaconda3/envs/serec/lib/python3.8/site-packages/pandas/core/frame.py?line=7626'>7627</a>\u001b[0m axis \u001b[39m=\u001b[39m \u001b[39mself\u001b[39m\u001b[39m.\u001b[39m_get_axis_number(axis)\n\u001b[1;32m   <a href='file:///home/seongha/anaconda3/envs/serec/lib/python3.8/site-packages/pandas/core/frame.py?line=7628'>7629</a>\u001b[0m \u001b[39m# error: Argument \"squeeze\" to \"DataFrameGroupBy\" has incompatible type\u001b[39;00m\n\u001b[1;32m   <a href='file:///home/seongha/anaconda3/envs/serec/lib/python3.8/site-packages/pandas/core/frame.py?line=7629'>7630</a>\u001b[0m \u001b[39m# \"Union[bool, NoDefault]\"; expected \"bool\"\u001b[39;00m\n\u001b[0;32m-> <a href='file:///home/seongha/anaconda3/envs/serec/lib/python3.8/site-packages/pandas/core/frame.py?line=7630'>7631</a>\u001b[0m \u001b[39mreturn\u001b[39;00m DataFrameGroupBy(\n\u001b[1;32m   <a href='file:///home/seongha/anaconda3/envs/serec/lib/python3.8/site-packages/pandas/core/frame.py?line=7631'>7632</a>\u001b[0m     obj\u001b[39m=\u001b[39;49m\u001b[39mself\u001b[39;49m,\n\u001b[1;32m   <a href='file:///home/seongha/anaconda3/envs/serec/lib/python3.8/site-packages/pandas/core/frame.py?line=7632'>7633</a>\u001b[0m     keys\u001b[39m=\u001b[39;49mby,\n\u001b[1;32m   <a href='file:///home/seongha/anaconda3/envs/serec/lib/python3.8/site-packages/pandas/core/frame.py?line=7633'>7634</a>\u001b[0m     axis\u001b[39m=\u001b[39;49maxis,\n\u001b[1;32m   <a href='file:///home/seongha/anaconda3/envs/serec/lib/python3.8/site-packages/pandas/core/frame.py?line=7634'>7635</a>\u001b[0m     level\u001b[39m=\u001b[39;49mlevel,\n\u001b[1;32m   <a href='file:///home/seongha/anaconda3/envs/serec/lib/python3.8/site-packages/pandas/core/frame.py?line=7635'>7636</a>\u001b[0m     as_index\u001b[39m=\u001b[39;49mas_index,\n\u001b[1;32m   <a href='file:///home/seongha/anaconda3/envs/serec/lib/python3.8/site-packages/pandas/core/frame.py?line=7636'>7637</a>\u001b[0m     sort\u001b[39m=\u001b[39;49msort,\n\u001b[1;32m   <a href='file:///home/seongha/anaconda3/envs/serec/lib/python3.8/site-packages/pandas/core/frame.py?line=7637'>7638</a>\u001b[0m     group_keys\u001b[39m=\u001b[39;49mgroup_keys,\n\u001b[1;32m   <a href='file:///home/seongha/anaconda3/envs/serec/lib/python3.8/site-packages/pandas/core/frame.py?line=7638'>7639</a>\u001b[0m     squeeze\u001b[39m=\u001b[39;49msqueeze,  \u001b[39m# type: ignore[arg-type]\u001b[39;49;00m\n\u001b[1;32m   <a href='file:///home/seongha/anaconda3/envs/serec/lib/python3.8/site-packages/pandas/core/frame.py?line=7639'>7640</a>\u001b[0m     observed\u001b[39m=\u001b[39;49mobserved,\n\u001b[1;32m   <a href='file:///home/seongha/anaconda3/envs/serec/lib/python3.8/site-packages/pandas/core/frame.py?line=7640'>7641</a>\u001b[0m     dropna\u001b[39m=\u001b[39;49mdropna,\n\u001b[1;32m   <a href='file:///home/seongha/anaconda3/envs/serec/lib/python3.8/site-packages/pandas/core/frame.py?line=7641'>7642</a>\u001b[0m )\n",
      "File \u001b[0;32m~/anaconda3/envs/serec/lib/python3.8/site-packages/pandas/core/groupby/groupby.py:889\u001b[0m, in \u001b[0;36mGroupBy.__init__\u001b[0;34m(self, obj, keys, axis, level, grouper, exclusions, selection, as_index, sort, group_keys, squeeze, observed, mutated, dropna)\u001b[0m\n\u001b[1;32m    <a href='file:///home/seongha/anaconda3/envs/serec/lib/python3.8/site-packages/pandas/core/groupby/groupby.py?line=885'>886</a>\u001b[0m \u001b[39mif\u001b[39;00m grouper \u001b[39mis\u001b[39;00m \u001b[39mNone\u001b[39;00m:\n\u001b[1;32m    <a href='file:///home/seongha/anaconda3/envs/serec/lib/python3.8/site-packages/pandas/core/groupby/groupby.py?line=886'>887</a>\u001b[0m     \u001b[39mfrom\u001b[39;00m \u001b[39mpandas\u001b[39;00m\u001b[39m.\u001b[39;00m\u001b[39mcore\u001b[39;00m\u001b[39m.\u001b[39;00m\u001b[39mgroupby\u001b[39;00m\u001b[39m.\u001b[39;00m\u001b[39mgrouper\u001b[39;00m \u001b[39mimport\u001b[39;00m get_grouper\n\u001b[0;32m--> <a href='file:///home/seongha/anaconda3/envs/serec/lib/python3.8/site-packages/pandas/core/groupby/groupby.py?line=888'>889</a>\u001b[0m     grouper, exclusions, obj \u001b[39m=\u001b[39m get_grouper(\n\u001b[1;32m    <a href='file:///home/seongha/anaconda3/envs/serec/lib/python3.8/site-packages/pandas/core/groupby/groupby.py?line=889'>890</a>\u001b[0m         obj,\n\u001b[1;32m    <a href='file:///home/seongha/anaconda3/envs/serec/lib/python3.8/site-packages/pandas/core/groupby/groupby.py?line=890'>891</a>\u001b[0m         keys,\n\u001b[1;32m    <a href='file:///home/seongha/anaconda3/envs/serec/lib/python3.8/site-packages/pandas/core/groupby/groupby.py?line=891'>892</a>\u001b[0m         axis\u001b[39m=\u001b[39;49maxis,\n\u001b[1;32m    <a href='file:///home/seongha/anaconda3/envs/serec/lib/python3.8/site-packages/pandas/core/groupby/groupby.py?line=892'>893</a>\u001b[0m         level\u001b[39m=\u001b[39;49mlevel,\n\u001b[1;32m    <a href='file:///home/seongha/anaconda3/envs/serec/lib/python3.8/site-packages/pandas/core/groupby/groupby.py?line=893'>894</a>\u001b[0m         sort\u001b[39m=\u001b[39;49msort,\n\u001b[1;32m    <a href='file:///home/seongha/anaconda3/envs/serec/lib/python3.8/site-packages/pandas/core/groupby/groupby.py?line=894'>895</a>\u001b[0m         observed\u001b[39m=\u001b[39;49mobserved,\n\u001b[1;32m    <a href='file:///home/seongha/anaconda3/envs/serec/lib/python3.8/site-packages/pandas/core/groupby/groupby.py?line=895'>896</a>\u001b[0m         mutated\u001b[39m=\u001b[39;49m\u001b[39mself\u001b[39;49m\u001b[39m.\u001b[39;49mmutated,\n\u001b[1;32m    <a href='file:///home/seongha/anaconda3/envs/serec/lib/python3.8/site-packages/pandas/core/groupby/groupby.py?line=896'>897</a>\u001b[0m         dropna\u001b[39m=\u001b[39;49m\u001b[39mself\u001b[39;49m\u001b[39m.\u001b[39;49mdropna,\n\u001b[1;32m    <a href='file:///home/seongha/anaconda3/envs/serec/lib/python3.8/site-packages/pandas/core/groupby/groupby.py?line=897'>898</a>\u001b[0m     )\n\u001b[1;32m    <a href='file:///home/seongha/anaconda3/envs/serec/lib/python3.8/site-packages/pandas/core/groupby/groupby.py?line=899'>900</a>\u001b[0m \u001b[39mself\u001b[39m\u001b[39m.\u001b[39mobj \u001b[39m=\u001b[39m obj\n\u001b[1;32m    <a href='file:///home/seongha/anaconda3/envs/serec/lib/python3.8/site-packages/pandas/core/groupby/groupby.py?line=900'>901</a>\u001b[0m \u001b[39mself\u001b[39m\u001b[39m.\u001b[39maxis \u001b[39m=\u001b[39m obj\u001b[39m.\u001b[39m_get_axis_number(axis)\n",
      "File \u001b[0;32m~/anaconda3/envs/serec/lib/python3.8/site-packages/pandas/core/groupby/grouper.py:857\u001b[0m, in \u001b[0;36mget_grouper\u001b[0;34m(obj, key, axis, level, sort, observed, mutated, validate, dropna)\u001b[0m\n\u001b[1;32m    <a href='file:///home/seongha/anaconda3/envs/serec/lib/python3.8/site-packages/pandas/core/groupby/grouper.py?line=852'>853</a>\u001b[0m     in_axis, name, gpr \u001b[39m=\u001b[39m \u001b[39mTrue\u001b[39;00m, gpr, obj[gpr]\n\u001b[1;32m    <a href='file:///home/seongha/anaconda3/envs/serec/lib/python3.8/site-packages/pandas/core/groupby/grouper.py?line=853'>854</a>\u001b[0m     \u001b[39mif\u001b[39;00m gpr\u001b[39m.\u001b[39mndim \u001b[39m!=\u001b[39m \u001b[39m1\u001b[39m:\n\u001b[1;32m    <a href='file:///home/seongha/anaconda3/envs/serec/lib/python3.8/site-packages/pandas/core/groupby/grouper.py?line=854'>855</a>\u001b[0m         \u001b[39m# non-unique columns; raise here to get the name in the\u001b[39;00m\n\u001b[1;32m    <a href='file:///home/seongha/anaconda3/envs/serec/lib/python3.8/site-packages/pandas/core/groupby/grouper.py?line=855'>856</a>\u001b[0m         \u001b[39m# exception message\u001b[39;00m\n\u001b[0;32m--> <a href='file:///home/seongha/anaconda3/envs/serec/lib/python3.8/site-packages/pandas/core/groupby/grouper.py?line=856'>857</a>\u001b[0m         \u001b[39mraise\u001b[39;00m \u001b[39mValueError\u001b[39;00m(\u001b[39mf\u001b[39m\u001b[39m\"\u001b[39m\u001b[39mGrouper for \u001b[39m\u001b[39m'\u001b[39m\u001b[39m{\u001b[39;00mname\u001b[39m}\u001b[39;00m\u001b[39m'\u001b[39m\u001b[39m not 1-dimensional\u001b[39m\u001b[39m\"\u001b[39m)\n\u001b[1;32m    <a href='file:///home/seongha/anaconda3/envs/serec/lib/python3.8/site-packages/pandas/core/groupby/grouper.py?line=857'>858</a>\u001b[0m     exclusions\u001b[39m.\u001b[39madd(name)\n\u001b[1;32m    <a href='file:///home/seongha/anaconda3/envs/serec/lib/python3.8/site-packages/pandas/core/groupby/grouper.py?line=858'>859</a>\u001b[0m \u001b[39melif\u001b[39;00m obj\u001b[39m.\u001b[39m_is_level_reference(gpr, axis\u001b[39m=\u001b[39maxis):\n",
      "\u001b[0;31mValueError\u001b[0m: Grouper for 'item_first_clicked' not 1-dimensional"
     ]
    }
   ],
   "source": [
    "X = pd.read_csv('./feat_extract.csv')\n",
    "print(X.columns)\n",
    "pivot_mean = pd.pivot_table(X, index=['item_first_clicked'], columns = ['item_first_clicked'], values=['hour'])"
   ]
  },
  {
   "cell_type": "code",
   "execution_count": null,
   "metadata": {},
   "outputs": [],
   "source": []
  }
 ],
 "metadata": {
  "interpreter": {
   "hash": "f6795b7e335e45d28e9efdbdc5fd8d01cb8d10405706726ed248b9c8edb4faec"
  },
  "kernelspec": {
   "display_name": "Python 3.8.12 ('serec')",
   "language": "python",
   "name": "python3"
  },
  "language_info": {
   "codemirror_mode": {
    "name": "ipython",
    "version": 3
   },
   "file_extension": ".py",
   "mimetype": "text/x-python",
   "name": "python",
   "nbconvert_exporter": "python",
   "pygments_lexer": "ipython3",
   "version": "3.8.13"
  },
  "orig_nbformat": 4
 },
 "nbformat": 4,
 "nbformat_minor": 2
}
