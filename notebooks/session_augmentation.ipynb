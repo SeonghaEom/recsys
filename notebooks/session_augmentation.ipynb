{
 "cells": [
  {
   "cell_type": "code",
   "execution_count": 1,
   "metadata": {},
   "outputs": [],
   "source": [
    "import pandas as pd"
   ]
  },
  {
   "cell_type": "markdown",
   "metadata": {},
   "source": [
    "## crop"
   ]
  },
  {
   "cell_type": "code",
   "execution_count": 2,
   "metadata": {},
   "outputs": [
    {
     "name": "stdout",
     "output_type": "stream",
     "text": [
      "   session_id  Unnamed: 1  session_id.1  item_id                    date\n",
      "0           3           1             3     9655 2020-12-18 21:19:48.093\n",
      "1           3           0             3     9655 2020-12-18 21:25:00.373\n",
      "2          13           2            13    15654 2020-03-13 19:35:27.136\n",
      "3          18           5            18     4026 2020-08-26 19:15:47.232\n",
      "4          18           4            18     2507 2020-08-26 19:16:31.211\n",
      "Index(['session_id', 'Unnamed: 1', 'session_id.1', 'item_id', 'date', 'hour'], dtype='object')\n"
     ]
    }
   ],
   "source": [
    "tr_sessions = pd.read_csv('./train_sessions_sorted.csv')\n",
    "tr_sessions['date'] = pd.to_datetime(tr_sessions['date'], format='%Y-%m-%d %H:%M:%S')\n",
    "tr_purchases = pd.read_csv('./train_purchases.csv')\n",
    "\n",
    "print(tr_sessions.head())\n",
    "\n",
    "tr_sessions['hour'] = tr_sessions['date'].dt.hour\n",
    "print(tr_sessions.columns)"
   ]
  },
  {
   "cell_type": "code",
   "execution_count": 1,
   "metadata": {},
   "outputs": [
    {
     "ename": "NameError",
     "evalue": "name 'tr_purchases' is not defined",
     "output_type": "error",
     "traceback": [
      "\u001b[0;31m---------------------------------------------------------------------------\u001b[0m",
      "\u001b[0;31mNameError\u001b[0m                                 Traceback (most recent call last)",
      "\u001b[0;32m/tmp/ipykernel_8835/2312772751.py\u001b[0m in \u001b[0;36m<module>\u001b[0;34m\u001b[0m\n\u001b[1;32m      1\u001b[0m \u001b[0;31m## Generate Train dataset txt file\u001b[0m\u001b[0;34m\u001b[0m\u001b[0;34m\u001b[0m\u001b[0;34m\u001b[0m\u001b[0m\n\u001b[0;32m----> 2\u001b[0;31m \u001b[0msids\u001b[0m \u001b[0;34m=\u001b[0m \u001b[0mtr_purchases\u001b[0m\u001b[0;34m[\u001b[0m\u001b[0;34m'session_id'\u001b[0m\u001b[0;34m]\u001b[0m\u001b[0;34m.\u001b[0m\u001b[0munique\u001b[0m\u001b[0;34m(\u001b[0m\u001b[0;34m)\u001b[0m\u001b[0;34m\u001b[0m\u001b[0;34m\u001b[0m\u001b[0m\n\u001b[0m\u001b[1;32m      3\u001b[0m \u001b[0;34m\u001b[0m\u001b[0m\n\u001b[1;32m      4\u001b[0m \u001b[0;32mwith\u001b[0m \u001b[0mopen\u001b[0m\u001b[0;34m(\u001b[0m\u001b[0;34m'./train_gap1h.txt'\u001b[0m\u001b[0;34m,\u001b[0m \u001b[0;34m'w'\u001b[0m\u001b[0;34m)\u001b[0m \u001b[0;32mas\u001b[0m \u001b[0mf\u001b[0m\u001b[0;34m:\u001b[0m\u001b[0;34m\u001b[0m\u001b[0;34m\u001b[0m\u001b[0m\n\u001b[1;32m      5\u001b[0m   \u001b[0;32mfor\u001b[0m \u001b[0msid\u001b[0m \u001b[0;32min\u001b[0m \u001b[0msids\u001b[0m\u001b[0;34m:\u001b[0m\u001b[0;34m\u001b[0m\u001b[0;34m\u001b[0m\u001b[0m\n",
      "\u001b[0;31mNameError\u001b[0m: name 'tr_purchases' is not defined"
     ]
    }
   ],
   "source": [
    "## Generate Train dataset txt file\n",
    "sids = tr_purchases['session_id'].unique()\n",
    "\n",
    "with open('./train_gap1h.txt', 'w') as f:\n",
    "  for sid in sids:\n",
    "    ses_per_sid = tr_sessions.loc[tr_sessions['session_id'] == sid]\n",
    "    ses_gr = ses_per_sid.groupby(['hour'])\n",
    "    for gn, gr in ses_gr:\n",
    "      sess = gr['item_id'].tolist()\n",
    "      j = 0\n",
    "      while j+10 < len(sess):\n",
    "        sess_part = sess[j:j+10]\n",
    "        sess_part.append(tr_purchases.loc[tr_purchases['session_id'] == sid]['item_id'].values[0])\n",
    "        string = \",\".join(map(str,sess_part)) + '\\n'\n",
    "        f.write(string)\n",
    "        j += 10\n",
    "      sess_part = sess[j:]\n",
    "      sess_part.append(tr_purchases.loc[tr_purchases['session_id'] == sid]['item_id'].values[0])\n",
    "      string = \",\".join(map(str,sess_part)) + '\\n'\n",
    "      f.write(string)"
   ]
  },
  {
   "cell_type": "code",
   "execution_count": 2,
   "metadata": {},
   "outputs": [
    {
     "name": "stdout",
     "output_type": "stream",
     "text": [
      "average length  4.530623591027529\n",
      "maximum length 11\n",
      "session length larger than 5:  374847\n",
      "session length smaller or equal to 5:  968774\n"
     ]
    }
   ],
   "source": [
    "## check statistics\n",
    "def print_statistics(fn):\n",
    "  with open(fn, 'r') as f:\n",
    "    session = f.readlines()\n",
    "\n",
    "  len(session)\n",
    "  session = [s.split(',') for s in session]\n",
    "  li = list(map(len, session))\n",
    "  print(\"average length \", sum(li)/len(li))\n",
    "  print(\"maximum length\", max(li))\n",
    "\n",
    "  larger = sum(map((lambda x: x>5), li))\n",
    "  print(\"session length larger than 5: \", larger)\n",
    "  smaller = sum(map((lambda x: x<=5), li))\n",
    "  print(\"session length smaller or equal to 5: \", smaller)\n",
    "\n",
    "print_statistics('./train_gap1h.txt')"
   ]
  }
 ],
 "metadata": {
  "interpreter": {
   "hash": "f6795b7e335e45d28e9efdbdc5fd8d01cb8d10405706726ed248b9c8edb4faec"
  },
  "kernelspec": {
   "display_name": "Python 3.8.12 ('serec')",
   "language": "python",
   "name": "python3"
  },
  "language_info": {
   "codemirror_mode": {
    "name": "ipython",
    "version": 3
   },
   "file_extension": ".py",
   "mimetype": "text/x-python",
   "name": "python",
   "nbconvert_exporter": "python",
   "pygments_lexer": "ipython3",
   "version": "3.8.13"
  },
  "orig_nbformat": 4
 },
 "nbformat": 4,
 "nbformat_minor": 2
}
